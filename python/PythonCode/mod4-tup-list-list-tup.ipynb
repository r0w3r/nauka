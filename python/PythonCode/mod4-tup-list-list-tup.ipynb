{
 "cells": [
  {
   "cell_type": "code",
   "execution_count": 1,
   "id": "12a63a42",
   "metadata": {},
   "outputs": [],
   "source": [
    "city_1 = ('London', 'UK', 8.98)\n",
    "city_2 = ('Canberra', 'Australia', 0.4)\n",
    "city_3 = ('Algiers', 'Algeria', 3.9)\n"
   ]
  },
  {
   "cell_type": "code",
   "execution_count": 3,
   "id": "2d771272",
   "metadata": {},
   "outputs": [
    {
     "name": "stdout",
     "output_type": "stream",
     "text": [
      "Name:  London , Country: UK , Population: 8.98\n",
      "Name:  Canberra , Country: Australia , Population: 0.4\n",
      "Name:  Algiers , Country: Algeria , Population: 3.9\n"
     ]
    }
   ],
   "source": [
    "capitals = [('London', 'UK', 8.98), ('Canberra', 'Australia', 0.4), ('Algiers', 'Algeria', 3.9)]\n",
    "for cap in capitals:\n",
    "    print('Name: ', cap[0], ', Country:', cap[1],', Population:', cap[2])"
   ]
  },
  {
   "cell_type": "code",
   "execution_count": null,
   "id": "8fa41433",
   "metadata": {},
   "outputs": [],
   "source": []
  }
 ],
 "metadata": {
  "kernelspec": {
   "display_name": "Python 3 (ipykernel)",
   "language": "python",
   "name": "python3"
  },
  "language_info": {
   "codemirror_mode": {
    "name": "ipython",
    "version": 3
   },
   "file_extension": ".py",
   "mimetype": "text/x-python",
   "name": "python",
   "nbconvert_exporter": "python",
   "pygments_lexer": "ipython3",
   "version": "3.9.13"
  }
 },
 "nbformat": 4,
 "nbformat_minor": 5
}
