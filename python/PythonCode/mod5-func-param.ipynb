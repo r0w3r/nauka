{
 "cells": [
  {
   "cell_type": "code",
   "execution_count": 2,
   "id": "bb7b230c",
   "metadata": {},
   "outputs": [
    {
     "name": "stdout",
     "output_type": "stream",
     "text": [
      "7.24\n"
     ]
    }
   ],
   "source": [
    "\n",
    "def get_avg(input_nums):\n",
    "    sum = 0.0\n",
    "    for num in input_nums:\n",
    "        sum += num\n",
    "    average = sum / len(input_nums)\n",
    "    print(average)\n",
    "    \n",
    "get_avg([5.0, 3.5, 7.8, 9.9, 10.0])"
   ]
  },
  {
   "cell_type": "code",
   "execution_count": 5,
   "id": "ead71437",
   "metadata": {},
   "outputs": [],
   "source": [
    "def print_letter_count(text, letter):\n",
    "    counter = 0\n",
    "    for char in text:\n",
    "        if char == letter:\n",
    "            counter += 1\n",
    "    print('Number of', letter, 'is', counter)"
   ]
  },
  {
   "cell_type": "code",
   "execution_count": 9,
   "id": "0571e49d",
   "metadata": {},
   "outputs": [
    {
     "name": "stdout",
     "output_type": "stream",
     "text": [
      "Number of o is 5\n"
     ]
    }
   ],
   "source": [
    "print_letter_count(letter='o',text='People say nothing is impossible, but I do nothing every day')"
   ]
  },
  {
   "cell_type": "code",
   "execution_count": null,
   "id": "5efb8366",
   "metadata": {},
   "outputs": [],
   "source": []
  }
 ],
 "metadata": {
  "kernelspec": {
   "display_name": "Python 3 (ipykernel)",
   "language": "python",
   "name": "python3"
  },
  "language_info": {
   "codemirror_mode": {
    "name": "ipython",
    "version": 3
   },
   "file_extension": ".py",
   "mimetype": "text/x-python",
   "name": "python",
   "nbconvert_exporter": "python",
   "pygments_lexer": "ipython3",
   "version": "3.9.13"
  }
 },
 "nbformat": 4,
 "nbformat_minor": 5
}
