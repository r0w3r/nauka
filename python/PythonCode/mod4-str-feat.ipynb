{
 "cells": [
  {
   "cell_type": "code",
   "execution_count": 2,
   "id": "3b91d477",
   "metadata": {},
   "outputs": [
    {
     "name": "stdout",
     "output_type": "stream",
     "text": [
      "een D\n"
     ]
    }
   ],
   "source": [
    "fav_band = 'Green Day'\n",
    "print(fav_band[2:7])"
   ]
  },
  {
   "cell_type": "code",
   "execution_count": 5,
   "id": "559004cc",
   "metadata": {},
   "outputs": [
    {
     "name": "stdout",
     "output_type": "stream",
     "text": [
      "PLEASE CAPITLISE ME\n"
     ]
    }
   ],
   "source": [
    "text = 'please capitlise me'\n",
    "text_cap = text.upper()\n",
    "print(text_cap)"
   ]
  },
  {
   "cell_type": "code",
   "execution_count": 8,
   "id": "77f06824",
   "metadata": {},
   "outputs": [
    {
     "name": "stdout",
     "output_type": "stream",
     "text": [
      "Please provide a number: dupa\n",
      "Sorry, dupa is not a number!\n"
     ]
    }
   ],
   "source": [
    "user_num = input('Please provide a number: ')\n",
    "if user_num.isnumeric():\n",
    "    print('Thank you, That\\'s a correct number!')\n",
    "else:\n",
    "    print('Sorry,' , user_num, 'is not a number!')"
   ]
  }
 ],
 "metadata": {
  "kernelspec": {
   "display_name": "Python 3 (ipykernel)",
   "language": "python",
   "name": "python3"
  },
  "language_info": {
   "codemirror_mode": {
    "name": "ipython",
    "version": 3
   },
   "file_extension": ".py",
   "mimetype": "text/x-python",
   "name": "python",
   "nbconvert_exporter": "python",
   "pygments_lexer": "ipython3",
   "version": "3.9.13"
  }
 },
 "nbformat": 4,
 "nbformat_minor": 5
}
