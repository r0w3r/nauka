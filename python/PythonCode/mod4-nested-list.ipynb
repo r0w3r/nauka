{
 "cells": [
  {
   "cell_type": "code",
   "execution_count": 17,
   "id": "a3b388e3",
   "metadata": {},
   "outputs": [
    {
     "name": "stdout",
     "output_type": "stream",
     "text": [
      "AA1 AA2 AA3 \n",
      "AB1 AB2 AB3 \n",
      "BA1 BA2 BA3 \n",
      "BB1 BB2 BB3 \n",
      "CA1 CA2 CA3 \n",
      "CB1 CB2 CB3 \n"
     ]
    }
   ],
   "source": [
    "cells = [[['AA1', 'AA2', 'AA3'], ['AB1', 'AB2', 'AB3']], [['BA1', 'BA2','BA3'], ['BB1','BB2', 'BB3']],\n",
    "         [['CA1','CA2', 'CA3'], ['CB1','CB2', 'CB3']]]\n",
    "for e1 in cells:\n",
    "    for e2 in e1:\n",
    "        for e3 in e2:\n",
    "            print(e3, '', end='')\n",
    "        print()"
   ]
  },
  {
   "cell_type": "code",
   "execution_count": 18,
   "id": "d75c3020",
   "metadata": {},
   "outputs": [
    {
     "name": "stdout",
     "output_type": "stream",
     "text": [
      "[[1, 2, 3, 4, 5], [1, 2, 3, 4, 5], [1, 2, 3, 4, 5], [1, 2, 3, 4, 5]]\n"
     ]
    }
   ],
   "source": [
    "table = [[i for i in range(1, 6)] for j in range(4)]\n",
    "print(table)"
   ]
  }
 ],
 "metadata": {
  "kernelspec": {
   "display_name": "Python 3 (ipykernel)",
   "language": "python",
   "name": "python3"
  },
  "language_info": {
   "codemirror_mode": {
    "name": "ipython",
    "version": 3
   },
   "file_extension": ".py",
   "mimetype": "text/x-python",
   "name": "python",
   "nbconvert_exporter": "python",
   "pygments_lexer": "ipython3",
   "version": "3.9.13"
  }
 },
 "nbformat": 4,
 "nbformat_minor": 5
}
