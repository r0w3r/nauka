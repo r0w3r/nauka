{
 "cells": [
  {
   "cell_type": "code",
   "execution_count": 3,
   "id": "72ee71ae",
   "metadata": {},
   "outputs": [
    {
     "name": "stdout",
     "output_type": "stream",
     "text": [
      "What is your name? test\n",
      "You are not invited!\n"
     ]
    }
   ],
   "source": [
    "invidet_guests = ['Kate', 'Adam', 'Kerry', 'Joe', 'Marie']\n",
    "name = input('What is your name? ')\n",
    "if name in invidet_guests:\n",
    "    print('Welcome!')\n",
    "else:\n",
    "    print('You are not invited!')"
   ]
  },
  {
   "cell_type": "code",
   "execution_count": 6,
   "id": "80e9b31f",
   "metadata": {},
   "outputs": [
    {
     "name": "stdout",
     "output_type": "stream",
     "text": [
      "What is your name? Adam\n",
      "Welcome!\n"
     ]
    }
   ],
   "source": [
    "invidet_guests = ['Kate', 'Adam', 'Kerry', 'Joe', 'Marie']\n",
    "name = input('What is your name? ')\n",
    "if name not in invidet_guests:\n",
    "    print('You are not invited!')\n",
    "else:\n",
    "    print('Welcome!')\n"
   ]
  }
 ],
 "metadata": {
  "kernelspec": {
   "display_name": "Python 3 (ipykernel)",
   "language": "python",
   "name": "python3"
  },
  "language_info": {
   "codemirror_mode": {
    "name": "ipython",
    "version": 3
   },
   "file_extension": ".py",
   "mimetype": "text/x-python",
   "name": "python",
   "nbconvert_exporter": "python",
   "pygments_lexer": "ipython3",
   "version": "3.9.13"
  }
 },
 "nbformat": 4,
 "nbformat_minor": 5
}
