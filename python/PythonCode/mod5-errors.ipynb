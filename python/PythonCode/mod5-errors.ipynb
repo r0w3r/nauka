{
 "cells": [
  {
   "cell_type": "code",
   "execution_count": 4,
   "id": "d550480a",
   "metadata": {},
   "outputs": [
    {
     "name": "stdout",
     "output_type": "stream",
     "text": [
      "Enter an integer: 0\n",
      "You did not provide a number, so I will not calculate the inverse\n"
     ]
    }
   ],
   "source": [
    "try:\n",
    "    value = int(input('Enter an integer: '))\n",
    "    print('The inverse of', value, 'is', 1/value)\n",
    "except:\n",
    "    print('You did not provide a number, so I will not calculate the inverse')"
   ]
  },
  {
   "cell_type": "code",
   "execution_count": 8,
   "id": "50993f6c",
   "metadata": {},
   "outputs": [
    {
     "name": "stdout",
     "output_type": "stream",
     "text": [
      "Enter an integer: 0\n",
      "You provided 0 and division by 0 is not possible, sorry\n"
     ]
    }
   ],
   "source": [
    "try:\n",
    "    value = int(input('Enter an integer: '))\n",
    "    print('The inverse of', value, 'is', 1/value)\n",
    "except ValueError:\n",
    "    print('You did not provide a number, so I will not calculate the inverse')\n",
    "except ZeroDivisionError:\n",
    "    print('You provided 0 and division by 0 is not possible, sorry')\n",
    "except:\n",
    "    print('Something strange hapen')"
   ]
  },
  {
   "cell_type": "code",
   "execution_count": null,
   "id": "e1344f92",
   "metadata": {},
   "outputs": [],
   "source": []
  }
 ],
 "metadata": {
  "kernelspec": {
   "display_name": "Python 3 (ipykernel)",
   "language": "python",
   "name": "python3"
  },
  "language_info": {
   "codemirror_mode": {
    "name": "ipython",
    "version": 3
   },
   "file_extension": ".py",
   "mimetype": "text/x-python",
   "name": "python",
   "nbconvert_exporter": "python",
   "pygments_lexer": "ipython3",
   "version": "3.9.13"
  }
 },
 "nbformat": 4,
 "nbformat_minor": 5
}
