{
 "cells": [
  {
   "cell_type": "code",
   "execution_count": 4,
   "id": "09c8fad5",
   "metadata": {},
   "outputs": [
    {
     "name": "stdout",
     "output_type": "stream",
     "text": [
      "What is your age 22\n",
      "what is your country? Polska\n",
      "Sorry, you do not qualify\n"
     ]
    }
   ],
   "source": [
    "user_age = int(input('What is your age '))\n",
    "user_country = input('what is your country? ')\n",
    "if user_age < 25 and user_country == 'Germany':\n",
    "    print('You can apply for a German student exchange programme')\n",
    "else:\n",
    "    print('Sorry, you do not qualify')"
   ]
  },
  {
   "cell_type": "code",
   "execution_count": 9,
   "id": "23b5d13a",
   "metadata": {},
   "outputs": [
    {
     "name": "stdout",
     "output_type": "stream",
     "text": [
      "What is your country? pol\n",
      "sorry, you are not qualify\n"
     ]
    }
   ],
   "source": [
    "user_country = input('What is your country? ')\n",
    "if user_country == 'Sweden' or user_country == 'Denmark' or user_country == 'Norway':\n",
    "    print('You can apply for a scandinavian student exchage programme')\n",
    "else:\n",
    "    print('sorry, you are not qualify')"
   ]
  },
  {
   "cell_type": "code",
   "execution_count": 11,
   "id": "8b3d2334",
   "metadata": {},
   "outputs": [
    {
     "name": "stdout",
     "output_type": "stream",
     "text": [
      "Where do you come from? Germany\n",
      "You are from Germany\n"
     ]
    }
   ],
   "source": [
    "user_country = input('Where do you come from? ')\n",
    "if not user_country == 'Germany':\n",
    "    print('you are not from Germany')\n",
    "else:\n",
    "    print('You are from Germany')"
   ]
  },
  {
   "cell_type": "code",
   "execution_count": 16,
   "id": "b8b87b74",
   "metadata": {},
   "outputs": [
    {
     "name": "stdout",
     "output_type": "stream",
     "text": [
      "What is your age 23\n",
      "what is your country? Germany\n",
      "You don't qualify\n"
     ]
    }
   ],
   "source": [
    "user_age = int(input('What is your age '))\n",
    "user_country = input('what is your country? ')\n",
    "if not user_country == 'Germany' and user_age < 25 or \\\n",
    "user_country == 'Germany' and user_age < 23:\n",
    "    print('ayou qualify!')\n",
    "else:\n",
    "    print('You don\\'t qualify')"
   ]
  },
  {
   "cell_type": "code",
   "execution_count": null,
   "id": "91a2a325",
   "metadata": {},
   "outputs": [],
   "source": []
  }
 ],
 "metadata": {
  "kernelspec": {
   "display_name": "Python 3 (ipykernel)",
   "language": "python",
   "name": "python3"
  },
  "language_info": {
   "codemirror_mode": {
    "name": "ipython",
    "version": 3
   },
   "file_extension": ".py",
   "mimetype": "text/x-python",
   "name": "python",
   "nbconvert_exporter": "python",
   "pygments_lexer": "ipython3",
   "version": "3.9.13"
  }
 },
 "nbformat": 4,
 "nbformat_minor": 5
}
