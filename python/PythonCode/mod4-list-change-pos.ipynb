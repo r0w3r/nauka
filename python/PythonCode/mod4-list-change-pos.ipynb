{
 "cells": [
  {
   "cell_type": "code",
   "execution_count": 1,
   "id": "1807315f",
   "metadata": {},
   "outputs": [
    {
     "name": "stdout",
     "output_type": "stream",
     "text": [
      "Enter First number: 1\n",
      "Enter second number: 2\n",
      "2 1\n"
     ]
    }
   ],
   "source": [
    "first = input('Enter First number: ')\n",
    "second = input('Enter second number: ')\n",
    "first, second = second, first\n",
    "print(first, second)"
   ]
  },
  {
   "cell_type": "code",
   "execution_count": 2,
   "id": "50915d96",
   "metadata": {},
   "outputs": [
    {
     "name": "stdout",
     "output_type": "stream",
     "text": [
      "['Phoenix', 'LA', 'Chicago', 'Houston', 'NYC']\n"
     ]
    }
   ],
   "source": [
    "top_cities = ['NYC', 'LA', 'Chicago', 'Houston', 'Phoenix']\n",
    "top_cities[0], top_cities[4] = top_cities[4], top_cities[0]\n",
    "print(top_cities)"
   ]
  },
  {
   "cell_type": "code",
   "execution_count": 5,
   "id": "5ee72222",
   "metadata": {},
   "outputs": [
    {
     "name": "stdout",
     "output_type": "stream",
     "text": [
      "['Phoenix', 'NYC', 'LA', 'Houston', 'Chicago']\n"
     ]
    }
   ],
   "source": [
    "top_cities = ['NYC', 'LA', 'Chicago', 'Houston', 'Phoenix']\n",
    "top_cities.sort(reverse=True)\n",
    "print(top_cities)"
   ]
  },
  {
   "cell_type": "code",
   "execution_count": null,
   "id": "efb99eb7",
   "metadata": {},
   "outputs": [],
   "source": []
  }
 ],
 "metadata": {
  "kernelspec": {
   "display_name": "Python 3 (ipykernel)",
   "language": "python",
   "name": "python3"
  },
  "language_info": {
   "codemirror_mode": {
    "name": "ipython",
    "version": 3
   },
   "file_extension": ".py",
   "mimetype": "text/x-python",
   "name": "python",
   "nbconvert_exporter": "python",
   "pygments_lexer": "ipython3",
   "version": "3.9.13"
  }
 },
 "nbformat": 4,
 "nbformat_minor": 5
}
