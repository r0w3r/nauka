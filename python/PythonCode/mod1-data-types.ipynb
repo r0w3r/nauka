{
 "cells": [
  {
   "cell_type": "code",
   "execution_count": null,
   "id": "26e0da36",
   "metadata": {},
   "outputs": [],
   "source": [
    "greeting = 'Hello, friend!'"
   ]
  },
  {
   "cell_type": "code",
   "execution_count": null,
   "id": "b8977f0d",
   "metadata": {},
   "outputs": [],
   "source": [
    "speed = 4.5\n",
    "speed2 = 4.0\n",
    "speed4 = 4.\n",
    "speed3 = 4"
   ]
  },
  {
   "cell_type": "code",
   "execution_count": null,
   "id": "a232028b",
   "metadata": {},
   "outputs": [],
   "source": [
    "age = 35"
   ]
  },
  {
   "cell_type": "markdown",
   "id": "0cb7a665",
   "metadata": {},
   "source": []
  },
  {
   "cell_type": "code",
   "execution_count": null,
   "id": "71aefb68",
   "metadata": {},
   "outputs": [],
   "source": [
    "am_i"
   ]
  }
 ],
 "metadata": {
  "kernelspec": {
   "display_name": "Python 3 (ipykernel)",
   "language": "python",
   "name": "python3"
  },
  "language_info": {
   "codemirror_mode": {
    "name": "ipython",
    "version": 3
   },
   "file_extension": ".py",
   "mimetype": "text/x-python",
   "name": "python",
   "nbconvert_exporter": "python",
   "pygments_lexer": "ipython3",
   "version": "3.9.13"
  }
 },
 "nbformat": 4,
 "nbformat_minor": 5
}
