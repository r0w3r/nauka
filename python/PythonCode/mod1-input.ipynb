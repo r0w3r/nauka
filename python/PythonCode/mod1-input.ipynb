{
 "cells": [
  {
   "cell_type": "code",
   "execution_count": 1,
   "id": "1e0b8d67",
   "metadata": {},
   "outputs": [
    {
     "name": "stdout",
     "output_type": "stream",
     "text": [
      "poday imie\n",
      "bartosz\n",
      "twoje imie to bartosz\n"
     ]
    }
   ],
   "source": [
    "print('poday imie')\n",
    "imie = input()\n",
    "print('twoje imie to', imie)"
   ]
  },
  {
   "cell_type": "code",
   "execution_count": 2,
   "id": "e66aa3ce",
   "metadata": {},
   "outputs": [
    {
     "name": "stdout",
     "output_type": "stream",
     "text": [
      "test\n",
      "Podaj login test\n"
     ]
    }
   ],
   "source": [
    "print('Podaj login', input())\n"
   ]
  },
  {
   "cell_type": "code",
   "execution_count": 3,
   "id": "543cff76",
   "metadata": {},
   "outputs": [
    {
     "name": "stdout",
     "output_type": "stream",
     "text": [
      "teset\n"
     ]
    },
    {
     "ename": "TypeError",
     "evalue": "'test' is an invalid keyword argument for print()",
     "output_type": "error",
     "traceback": [
      "\u001b[0;31m---------------------------------------------------------------------------\u001b[0m",
      "\u001b[0;31mTypeError\u001b[0m                                 Traceback (most recent call last)",
      "\u001b[0;32m/tmp/ipykernel_8278/1900946292.py\u001b[0m in \u001b[0;36m<module>\u001b[0;34m\u001b[0m\n\u001b[0;32m----> 1\u001b[0;31m \u001b[0mprint\u001b[0m\u001b[0;34m(\u001b[0m\u001b[0;34m'podaj login'\u001b[0m\u001b[0;34m,\u001b[0m \u001b[0mtest\u001b[0m \u001b[0;34m=\u001b[0m \u001b[0minput\u001b[0m\u001b[0;34m(\u001b[0m\u001b[0;34m)\u001b[0m\u001b[0;34m)\u001b[0m\u001b[0;34m\u001b[0m\u001b[0;34m\u001b[0m\u001b[0m\n\u001b[0m",
      "\u001b[0;31mTypeError\u001b[0m: 'test' is an invalid keyword argument for print()"
     ]
    }
   ],
   "source": [
    "print('podaj login', test = input())\n"
   ]
  },
  {
   "cell_type": "code",
   "execution_count": 4,
   "id": "c7ffac7b",
   "metadata": {},
   "outputs": [
    {
     "name": "stdout",
     "output_type": "stream",
     "text": [
      "podaj login: \n",
      "bb\n",
      "podaj jezyk: \n",
      "polsku\n",
      "twoj login to bb i mowisz po polsku\n"
     ]
    }
   ],
   "source": [
    "print('podaj login: ')\n",
    "login = input()\n",
    "print('podaj jezyk: ')\n",
    "jezyk = input()\n",
    "print('twoj login to', login, 'i mowisz po', jezyk)"
   ]
  },
  {
   "cell_type": "code",
   "execution_count": null,
   "id": "d571d89b",
   "metadata": {},
   "outputs": [],
   "source": []
  }
 ],
 "metadata": {
  "kernelspec": {
   "display_name": "Python 3 (ipykernel)",
   "language": "python",
   "name": "python3"
  },
  "language_info": {
   "codemirror_mode": {
    "name": "ipython",
    "version": 3
   },
   "file_extension": ".py",
   "mimetype": "text/x-python",
   "name": "python",
   "nbconvert_exporter": "python",
   "pygments_lexer": "ipython3",
   "version": "3.9.13"
  }
 },
 "nbformat": 4,
 "nbformat_minor": 5
}
