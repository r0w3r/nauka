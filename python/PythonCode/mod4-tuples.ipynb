{
 "cells": [
  {
   "cell_type": "code",
   "execution_count": 1,
   "id": "535dead0",
   "metadata": {},
   "outputs": [],
   "source": [
    "empty_tuple = ()\n"
   ]
  },
  {
   "cell_type": "code",
   "execution_count": 2,
   "id": "0425a8c7",
   "metadata": {},
   "outputs": [],
   "source": [
    "one_el_tup_a = (1,)"
   ]
  },
  {
   "cell_type": "code",
   "execution_count": 3,
   "id": "2bf678ea",
   "metadata": {},
   "outputs": [],
   "source": [
    "one_el_tup_b = 1,"
   ]
  },
  {
   "cell_type": "code",
   "execution_count": 9,
   "id": "2b4e20a8",
   "metadata": {},
   "outputs": [
    {
     "name": "stdout",
     "output_type": "stream",
     "text": [
      "(2, 3)\n"
     ]
    }
   ],
   "source": [
    "three_el_tup = 1, 2, 3, 4, 5, 6\n",
    "print(three_el_tup[1:3] \n",
    "     )"
   ]
  }
 ],
 "metadata": {
  "kernelspec": {
   "display_name": "Python 3 (ipykernel)",
   "language": "python",
   "name": "python3"
  },
  "language_info": {
   "codemirror_mode": {
    "name": "ipython",
    "version": 3
   },
   "file_extension": ".py",
   "mimetype": "text/x-python",
   "name": "python",
   "nbconvert_exporter": "python",
   "pygments_lexer": "ipython3",
   "version": "3.9.13"
  }
 },
 "nbformat": 4,
 "nbformat_minor": 5
}
