{
 "cells": [
  {
   "cell_type": "code",
   "execution_count": 2,
   "id": "3a652ca5",
   "metadata": {},
   "outputs": [
    {
     "name": "stdout",
     "output_type": "stream",
     "text": [
      "Current letter: h\n",
      "Current letter: e\n",
      "Current letter: l\n",
      "Current letter: l\n",
      "Current letter: o\n",
      "Current letter: !\n"
     ]
    }
   ],
   "source": [
    "for letter in 'hello!':\n",
    "    print('Current letter:', letter)"
   ]
  },
  {
   "cell_type": "code",
   "execution_count": 5,
   "id": "02b53b3b",
   "metadata": {},
   "outputs": [
    {
     "name": "stdout",
     "output_type": "stream",
     "text": [
      "0\n",
      "2\n",
      "4\n",
      "6\n",
      "8\n",
      "10\n",
      "Finished!\n"
     ]
    }
   ],
   "source": [
    "for counter in range (0,11,2):\n",
    "    print(counter)\n",
    "print('Finished!')"
   ]
  },
  {
   "cell_type": "code",
   "execution_count": null,
   "id": "ab252546",
   "metadata": {},
   "outputs": [],
   "source": []
  }
 ],
 "metadata": {
  "kernelspec": {
   "display_name": "Python 3 (ipykernel)",
   "language": "python",
   "name": "python3"
  },
  "language_info": {
   "codemirror_mode": {
    "name": "ipython",
    "version": 3
   },
   "file_extension": ".py",
   "mimetype": "text/x-python",
   "name": "python",
   "nbconvert_exporter": "python",
   "pygments_lexer": "ipython3",
   "version": "3.9.13"
  }
 },
 "nbformat": 4,
 "nbformat_minor": 5
}
