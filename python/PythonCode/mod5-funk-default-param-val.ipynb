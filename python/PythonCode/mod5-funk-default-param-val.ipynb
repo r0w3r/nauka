{
 "cells": [
  {
   "cell_type": "code",
   "execution_count": 1,
   "id": "929ab896",
   "metadata": {},
   "outputs": [
    {
     "name": "stdout",
     "output_type": "stream",
     "text": [
      "Hello-How are you?."
     ]
    }
   ],
   "source": [
    "print('Hello', 'How are you?', end='.', sep='-')"
   ]
  },
  {
   "cell_type": "code",
   "execution_count": 16,
   "id": "10b096e2",
   "metadata": {},
   "outputs": [],
   "source": [
    "def print_let_count(text='This is the default string to search', letter='a'):\n",
    "    count = 0\n",
    "    for char in text:\n",
    "        if char == letter:\n",
    "            count += 1\n",
    "    print('Number of', letter, 'is', count)\n",
    "    "
   ]
  },
  {
   "cell_type": "code",
   "execution_count": 19,
   "id": "7e30598c",
   "metadata": {},
   "outputs": [
    {
     "name": "stdout",
     "output_type": "stream",
     "text": [
      "Number of i is 3\n"
     ]
    }
   ],
   "source": [
    "print_let_count(letter='i')"
   ]
  },
  {
   "cell_type": "code",
   "execution_count": null,
   "id": "a063cf4a",
   "metadata": {},
   "outputs": [],
   "source": []
  }
 ],
 "metadata": {
  "kernelspec": {
   "display_name": "Python 3 (ipykernel)",
   "language": "python",
   "name": "python3"
  },
  "language_info": {
   "codemirror_mode": {
    "name": "ipython",
    "version": 3
   },
   "file_extension": ".py",
   "mimetype": "text/x-python",
   "name": "python",
   "nbconvert_exporter": "python",
   "pygments_lexer": "ipython3",
   "version": "3.9.13"
  }
 },
 "nbformat": 4,
 "nbformat_minor": 5
}
