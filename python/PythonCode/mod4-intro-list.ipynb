{
 "cells": [
  {
   "cell_type": "code",
   "execution_count": 2,
   "id": "807c2155",
   "metadata": {},
   "outputs": [
    {
     "name": "stdout",
     "output_type": "stream",
     "text": [
      "['new yourk city', 'los angeles', 'chicago', 'phoenix']\n",
      "chicago\n"
     ]
    }
   ],
   "source": [
    "empty_list = []\n",
    "top_cities = ['new yourk city','houston', 'los angeles', 'chicago', 'phoenix']\n",
    "print(top_cities)\n",
    "print(top_cities[2])"
   ]
  },
  {
   "cell_type": "code",
   "execution_count": 3,
   "id": "ec2351b5",
   "metadata": {},
   "outputs": [
    {
     "data": {
      "text/plain": [
       "['new yourk city', 'los angeles']"
      ]
     },
     "execution_count": 3,
     "metadata": {},
     "output_type": "execute_result"
    }
   ],
   "source": [
    "top_cities[0:2]"
   ]
  },
  {
   "cell_type": "code",
   "execution_count": 4,
   "id": "2669ca40",
   "metadata": {},
   "outputs": [
    {
     "data": {
      "text/plain": [
       "['new yourk city']"
      ]
     },
     "execution_count": 4,
     "metadata": {},
     "output_type": "execute_result"
    }
   ],
   "source": [
    "top_cities[0:2:2]"
   ]
  },
  {
   "cell_type": "code",
   "execution_count": 5,
   "id": "72f6c0af",
   "metadata": {},
   "outputs": [
    {
     "data": {
      "text/plain": [
       "['new yourk city', 'los angeles', 'chicago']"
      ]
     },
     "execution_count": 5,
     "metadata": {},
     "output_type": "execute_result"
    }
   ],
   "source": [
    "top_cities[:3]"
   ]
  },
  {
   "cell_type": "code",
   "execution_count": 6,
   "id": "ac8d2818",
   "metadata": {},
   "outputs": [
    {
     "data": {
      "text/plain": [
       "['chicago', 'phoenix']"
      ]
     },
     "execution_count": 6,
     "metadata": {},
     "output_type": "execute_result"
    }
   ],
   "source": [
    "top_cities[2:]"
   ]
  },
  {
   "cell_type": "code",
   "execution_count": null,
   "id": "0fcc51db",
   "metadata": {},
   "outputs": [],
   "source": []
  }
 ],
 "metadata": {
  "kernelspec": {
   "display_name": "Python 3 (ipykernel)",
   "language": "python",
   "name": "python3"
  },
  "language_info": {
   "codemirror_mode": {
    "name": "ipython",
    "version": 3
   },
   "file_extension": ".py",
   "mimetype": "text/x-python",
   "name": "python",
   "nbconvert_exporter": "python",
   "pygments_lexer": "ipython3",
   "version": "3.9.13"
  }
 },
 "nbformat": 4,
 "nbformat_minor": 5
}
