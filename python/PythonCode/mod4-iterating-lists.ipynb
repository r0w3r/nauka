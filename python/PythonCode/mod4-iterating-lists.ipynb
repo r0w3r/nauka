{
 "cells": [
  {
   "cell_type": "code",
   "execution_count": 2,
   "id": "15d9a772",
   "metadata": {},
   "outputs": [
    {
     "name": "stdout",
     "output_type": "stream",
     "text": [
      "Current city: New York City\n",
      "Current city: Los Angeles\n",
      "Current city: Chicago\n",
      "Current city: Houston\n",
      "Current city: Phoenix\n"
     ]
    }
   ],
   "source": [
    "top_cities = ['New York City', 'Los Angeles', 'Chicago', 'Houston', 'Phoenix']\n",
    "for city in top_cities:\n",
    "    print('Current city:', city)"
   ]
  },
  {
   "cell_type": "code",
   "execution_count": 4,
   "id": "97823515",
   "metadata": {},
   "outputs": [
    {
     "name": "stdout",
     "output_type": "stream",
     "text": [
      "Current index: 0 | Current city: New York City\n",
      "Current index: 1 | Current city: Los Angeles\n",
      "Current index: 2 | Current city: Chicago\n",
      "Current index: 3 | Current city: Houston\n",
      "Current index: 4 | Current city: Phoenix\n"
     ]
    }
   ],
   "source": [
    "top_cities = ['New York City', 'Los Angeles', 'Chicago', 'Houston', 'Phoenix']\n",
    "for city_index in range(len(top_cities)):\n",
    "    print('Current index:', city_index, '| Current city:', top_cities[city_index], )"
   ]
  },
  {
   "cell_type": "code",
   "execution_count": 5,
   "id": "7abec735",
   "metadata": {},
   "outputs": [
    {
     "name": "stdout",
     "output_type": "stream",
     "text": [
      "Money spent: 158.1\n"
     ]
    }
   ],
   "source": [
    "spendings = [32.45, 18.65, 23.45, 78.32, 5.23]\n",
    "sum = 0.0\n",
    "for spend in spendings:\n",
    "    sum += spend\n",
    "print('Money spent:', sum)"
   ]
  },
  {
   "cell_type": "code",
   "execution_count": 15,
   "id": "a2124609",
   "metadata": {},
   "outputs": [
    {
     "name": "stdout",
     "output_type": "stream",
     "text": [
      "Numbers of months with low spendings:  1 , normal spendings:  5 , high spendings:  6\n"
     ]
    }
   ],
   "source": [
    "spendings = [1346.0, 987.50, 1734.40, 2567.0, 3271.45, 2500.0, 2130.0, 2510.30, 2987.34, 3120.50, 4069.78, 1000.0]\n",
    "low_spend = []\n",
    "normal_spend = []\n",
    "high_spend = []\n",
    "\n",
    "for spend in spendings:\n",
    "    if spend < 1000.0:\n",
    "        low_spend.append(spend)\n",
    "    elif spend >= 1000.0 and spend <= 2500.0:\n",
    "        normal_spend.append(spend)\n",
    "    elif spend > 2500.0:\n",
    "        high_spend.append(spend)\n",
    "print('Numbers of months with low spendings: ', len(low_spend), ', normal spendings: ', len(normal_spend), ', high spendings: ', len(high_spend))"
   ]
  },
  {
   "cell_type": "code",
   "execution_count": 14,
   "id": "9c800c1f",
   "metadata": {},
   "outputs": [
    {
     "name": "stdout",
     "output_type": "stream",
     "text": [
      "Numbers of months with low spendings: 1, normal spendings: 5, high spendings: 6.\n"
     ]
    }
   ],
   "source": [
    "spendings = [1346.0, 987.50, 1734.40, 2567.0, 3271.45, 2500.0, 2130.0, 2510.30, 2987.34, 3120.50, 4069.78, 1000.0]\n",
    " \n",
    "low = 0\n",
    "normal = 0\n",
    "high = 0\n",
    " \n",
    "for month in spendings:\n",
    "    if month < 1000.0:\n",
    "        low += 1\n",
    "    elif month <= 2500.0:\n",
    "        normal += 1\n",
    "    else:\n",
    "        high += 1\n",
    " \n",
    "print('Numbers of months with low spendings: ' + str(low) + ', normal spendings: ' + str(normal) + ', high spendings: ' + str(high) + '.')\n"
   ]
  },
  {
   "cell_type": "code",
   "execution_count": null,
   "id": "d63e195c",
   "metadata": {},
   "outputs": [],
   "source": []
  }
 ],
 "metadata": {
  "kernelspec": {
   "display_name": "Python 3 (ipykernel)",
   "language": "python",
   "name": "python3"
  },
  "language_info": {
   "codemirror_mode": {
    "name": "ipython",
    "version": 3
   },
   "file_extension": ".py",
   "mimetype": "text/x-python",
   "name": "python",
   "nbconvert_exporter": "python",
   "pygments_lexer": "ipython3",
   "version": "3.9.13"
  }
 },
 "nbformat": 4,
 "nbformat_minor": 5
}
