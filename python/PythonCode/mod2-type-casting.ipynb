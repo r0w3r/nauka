{
 "cells": [
  {
   "cell_type": "code",
   "execution_count": 1,
   "id": "65302477",
   "metadata": {},
   "outputs": [
    {
     "name": "stdout",
     "output_type": "stream",
     "text": [
      "Kalkulator wzrostu: podaj swoj wzrost w cm: 183\n",
      "Twoj wzrost w stopach to: 6.003937007874016\n"
     ]
    }
   ],
   "source": [
    "wzrost_cm = input('Kalkulator wzrostu: podaj swoj wzrost w cm: ')\n",
    "float_wzrost_cm = float(wzrost_cm)\n",
    "print('Twoj wzrost w stopach to:', float_wzrost_cm / 30.48)"
   ]
  },
  {
   "cell_type": "code",
   "execution_count": 2,
   "id": "ffd192cd",
   "metadata": {},
   "outputs": [
    {
     "name": "stdout",
     "output_type": "stream",
     "text": [
      "Height converter: enter your height in cm: 183\n",
      "Your height in feet is: 6.003937007874016\n"
     ]
    }
   ],
   "source": [
    "height_cm = float(input('Height converter: enter your height in cm: '))\n",
    "print('Your height in feet is:', height_cm / 30.48)"
   ]
  },
  {
   "cell_type": "code",
   "execution_count": null,
   "id": "a274941c",
   "metadata": {},
   "outputs": [],
   "source": []
  }
 ],
 "metadata": {
  "kernelspec": {
   "display_name": "Python 3 (ipykernel)",
   "language": "python",
   "name": "python3"
  },
  "language_info": {
   "codemirror_mode": {
    "name": "ipython",
    "version": 3
   },
   "file_extension": ".py",
   "mimetype": "text/x-python",
   "name": "python",
   "nbconvert_exporter": "python",
   "pygments_lexer": "ipython3",
   "version": "3.9.13"
  }
 },
 "nbformat": 4,
 "nbformat_minor": 5
}
